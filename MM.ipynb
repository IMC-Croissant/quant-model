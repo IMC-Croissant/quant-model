{
  "nbformat": 4,
  "nbformat_minor": 0,
  "metadata": {
    "colab": {
      "provenance": [],
      "authorship_tag": "ABX9TyP/rijdSljdQgzY98tpR0Rq",
      "include_colab_link": true
    },
    "kernelspec": {
      "name": "python3",
      "display_name": "Python 3"
    },
    "language_info": {
      "name": "python"
    }
  },
  "cells": [
    {
      "cell_type": "markdown",
      "metadata": {
        "id": "view-in-github",
        "colab_type": "text"
      },
      "source": [
        "<a href=\"https://colab.research.google.com/github/andrewchan868/quant-model/blob/main/MM.ipynb\" target=\"_parent\"><img src=\"https://colab.research.google.com/assets/colab-badge.svg\" alt=\"Open In Colab\"/></a>"
      ]
    },
    {
      "cell_type": "code",
      "execution_count": 52,
      "metadata": {
        "colab": {
          "base_uri": "https://localhost:8080/"
        },
        "id": "YRkJ3jnB5dnW",
        "outputId": "f6e08952-722f-477d-c858-a0d42d074fac"
      },
      "outputs": [
        {
          "output_type": "stream",
          "name": "stdout",
          "text": [
            "Drive already mounted at /content/drive; to attempt to forcibly remount, call drive.mount(\"/content/drive\", force_remount=True).\n",
            "   updateCount  lastprice  volume  bidsize    bid    ask  asksize\n",
            "0            1      26.78     303      455  26.77  26.79        1\n",
            "1            2      26.78     303      455  26.77  26.79        1\n",
            "2            3      26.77     361      518  26.77  26.78        1\n",
            "3            4      26.79     374       42  26.78  26.79       44\n",
            "4            5      26.79     413      163  26.77  26.80        2\n"
          ]
        }
      ],
      "source": [
        "from google.colab import drive\n",
        "import pandas as pd\n",
        "import numpy as np\n",
        "\n",
        "# Mount Google Drive\n",
        "drive.mount('/content/drive')\n",
        "\n",
        "# Load the csv file from Google Drive into a pandas dataframe\n",
        "file_path = '/content/drive/My Drive/CLdata/mdLog.csv'\n",
        "df = pd.read_csv(file_path)\n",
        "\n",
        "# Display the first 5 rows of the dataframe\n",
        "print(df.head())"
      ]
    },
    {
      "cell_type": "code",
      "source": [
        "# add some columns for later analyses\n",
        "df[\"bid_diff\"] = np.round(df.bid.diff().fillna(0), 2)\n",
        "df[\"ask_diff\"] = np.round(df.ask.diff().fillna(0), 2)\n",
        "df[\"ba_spread\"] = df.ask - df.bid\n",
        "df[\"ba_spread_diff\"] = np.round(df.ba_spread.diff().fillna(0), 6)\n",
        "df[\"widen\"] = df.ba_spread_diff > 0\n",
        "df[\"tighten\"] = df.ba_spread_diff < 0\n",
        "df[\"widen_both_side\"] = (df.bid_diff < 0) & (df.ask_diff > 0)\n",
        "# print(df[\"widen_both_side\"]\n",
        "df[\"tighten_both_side\"] = (df.bid_diff > 0) & (df.ask_diff < 0)\n",
        "# print(df[\"tighten_both_side\"])\n",
        "df[df.widen]"
      ],
      "metadata": {
        "colab": {
          "base_uri": "https://localhost:8080/",
          "height": 424
        },
        "id": "oGJVtR4l9kJ6",
        "outputId": "056b09dd-a825-4e59-f38a-42882405318b"
      },
      "execution_count": 53,
      "outputs": [
        {
          "output_type": "execute_result",
          "data": {
            "text/plain": [
              "       updateCount  lastprice  volume  bidsize    bid    ask  asksize  \\\n",
              "4                5      26.79     413      163  26.77  26.80        2   \n",
              "7                8      26.78     588      385  26.77  26.79       13   \n",
              "9               10      26.78     645       84  26.78  26.80       18   \n",
              "13              14      26.79     732       86  26.78  26.80       50   \n",
              "18              19      26.81     825       68  26.79  26.81       57   \n",
              "...            ...        ...     ...      ...    ...    ...      ...   \n",
              "49904        49905      27.05  580069     1698  27.05  27.07      343   \n",
              "50136        50137      27.09  585821      417  27.08  27.10      654   \n",
              "50139        50140      27.09  585834      416  27.08  27.10      669   \n",
              "50143        50144      27.09  585980      383  27.08  27.10      671   \n",
              "50153        50154      27.09  586010      415  27.08  27.10      663   \n",
              "\n",
              "       bid_diff  ask_diff  ba_spread  ba_spread_diff  widen  tighten  \\\n",
              "4         -0.01      0.01       0.03            0.02   True    False   \n",
              "7          0.00      0.01       0.02            0.01   True    False   \n",
              "9          0.00      0.01       0.02            0.01   True    False   \n",
              "13         0.00      0.01       0.02            0.01   True    False   \n",
              "18        -0.01      0.00       0.02            0.01   True    False   \n",
              "...         ...       ...        ...             ...    ...      ...   \n",
              "49904      0.00      0.01       0.02            0.01   True    False   \n",
              "50136      0.00      0.01       0.02            0.01   True    False   \n",
              "50139      0.00      0.01       0.02            0.01   True    False   \n",
              "50143      0.00      0.01       0.02            0.01   True    False   \n",
              "50153      0.00      0.01       0.02            0.01   True    False   \n",
              "\n",
              "       widen_both_side  tighten_both_side  \n",
              "4                 True              False  \n",
              "7                False              False  \n",
              "9                False              False  \n",
              "13               False              False  \n",
              "18               False              False  \n",
              "...                ...                ...  \n",
              "49904            False              False  \n",
              "50136            False              False  \n",
              "50139            False              False  \n",
              "50143            False              False  \n",
              "50153            False              False  \n",
              "\n",
              "[233 rows x 15 columns]"
            ],
            "text/html": [
              "\n",
              "  <div id=\"df-c3dc5dc4-5390-4d19-bca1-da29cad13fe8\">\n",
              "    <div class=\"colab-df-container\">\n",
              "      <div>\n",
              "<style scoped>\n",
              "    .dataframe tbody tr th:only-of-type {\n",
              "        vertical-align: middle;\n",
              "    }\n",
              "\n",
              "    .dataframe tbody tr th {\n",
              "        vertical-align: top;\n",
              "    }\n",
              "\n",
              "    .dataframe thead th {\n",
              "        text-align: right;\n",
              "    }\n",
              "</style>\n",
              "<table border=\"1\" class=\"dataframe\">\n",
              "  <thead>\n",
              "    <tr style=\"text-align: right;\">\n",
              "      <th></th>\n",
              "      <th>updateCount</th>\n",
              "      <th>lastprice</th>\n",
              "      <th>volume</th>\n",
              "      <th>bidsize</th>\n",
              "      <th>bid</th>\n",
              "      <th>ask</th>\n",
              "      <th>asksize</th>\n",
              "      <th>bid_diff</th>\n",
              "      <th>ask_diff</th>\n",
              "      <th>ba_spread</th>\n",
              "      <th>ba_spread_diff</th>\n",
              "      <th>widen</th>\n",
              "      <th>tighten</th>\n",
              "      <th>widen_both_side</th>\n",
              "      <th>tighten_both_side</th>\n",
              "    </tr>\n",
              "  </thead>\n",
              "  <tbody>\n",
              "    <tr>\n",
              "      <th>4</th>\n",
              "      <td>5</td>\n",
              "      <td>26.79</td>\n",
              "      <td>413</td>\n",
              "      <td>163</td>\n",
              "      <td>26.77</td>\n",
              "      <td>26.80</td>\n",
              "      <td>2</td>\n",
              "      <td>-0.01</td>\n",
              "      <td>0.01</td>\n",
              "      <td>0.03</td>\n",
              "      <td>0.02</td>\n",
              "      <td>True</td>\n",
              "      <td>False</td>\n",
              "      <td>True</td>\n",
              "      <td>False</td>\n",
              "    </tr>\n",
              "    <tr>\n",
              "      <th>7</th>\n",
              "      <td>8</td>\n",
              "      <td>26.78</td>\n",
              "      <td>588</td>\n",
              "      <td>385</td>\n",
              "      <td>26.77</td>\n",
              "      <td>26.79</td>\n",
              "      <td>13</td>\n",
              "      <td>0.00</td>\n",
              "      <td>0.01</td>\n",
              "      <td>0.02</td>\n",
              "      <td>0.01</td>\n",
              "      <td>True</td>\n",
              "      <td>False</td>\n",
              "      <td>False</td>\n",
              "      <td>False</td>\n",
              "    </tr>\n",
              "    <tr>\n",
              "      <th>9</th>\n",
              "      <td>10</td>\n",
              "      <td>26.78</td>\n",
              "      <td>645</td>\n",
              "      <td>84</td>\n",
              "      <td>26.78</td>\n",
              "      <td>26.80</td>\n",
              "      <td>18</td>\n",
              "      <td>0.00</td>\n",
              "      <td>0.01</td>\n",
              "      <td>0.02</td>\n",
              "      <td>0.01</td>\n",
              "      <td>True</td>\n",
              "      <td>False</td>\n",
              "      <td>False</td>\n",
              "      <td>False</td>\n",
              "    </tr>\n",
              "    <tr>\n",
              "      <th>13</th>\n",
              "      <td>14</td>\n",
              "      <td>26.79</td>\n",
              "      <td>732</td>\n",
              "      <td>86</td>\n",
              "      <td>26.78</td>\n",
              "      <td>26.80</td>\n",
              "      <td>50</td>\n",
              "      <td>0.00</td>\n",
              "      <td>0.01</td>\n",
              "      <td>0.02</td>\n",
              "      <td>0.01</td>\n",
              "      <td>True</td>\n",
              "      <td>False</td>\n",
              "      <td>False</td>\n",
              "      <td>False</td>\n",
              "    </tr>\n",
              "    <tr>\n",
              "      <th>18</th>\n",
              "      <td>19</td>\n",
              "      <td>26.81</td>\n",
              "      <td>825</td>\n",
              "      <td>68</td>\n",
              "      <td>26.79</td>\n",
              "      <td>26.81</td>\n",
              "      <td>57</td>\n",
              "      <td>-0.01</td>\n",
              "      <td>0.00</td>\n",
              "      <td>0.02</td>\n",
              "      <td>0.01</td>\n",
              "      <td>True</td>\n",
              "      <td>False</td>\n",
              "      <td>False</td>\n",
              "      <td>False</td>\n",
              "    </tr>\n",
              "    <tr>\n",
              "      <th>...</th>\n",
              "      <td>...</td>\n",
              "      <td>...</td>\n",
              "      <td>...</td>\n",
              "      <td>...</td>\n",
              "      <td>...</td>\n",
              "      <td>...</td>\n",
              "      <td>...</td>\n",
              "      <td>...</td>\n",
              "      <td>...</td>\n",
              "      <td>...</td>\n",
              "      <td>...</td>\n",
              "      <td>...</td>\n",
              "      <td>...</td>\n",
              "      <td>...</td>\n",
              "      <td>...</td>\n",
              "    </tr>\n",
              "    <tr>\n",
              "      <th>49904</th>\n",
              "      <td>49905</td>\n",
              "      <td>27.05</td>\n",
              "      <td>580069</td>\n",
              "      <td>1698</td>\n",
              "      <td>27.05</td>\n",
              "      <td>27.07</td>\n",
              "      <td>343</td>\n",
              "      <td>0.00</td>\n",
              "      <td>0.01</td>\n",
              "      <td>0.02</td>\n",
              "      <td>0.01</td>\n",
              "      <td>True</td>\n",
              "      <td>False</td>\n",
              "      <td>False</td>\n",
              "      <td>False</td>\n",
              "    </tr>\n",
              "    <tr>\n",
              "      <th>50136</th>\n",
              "      <td>50137</td>\n",
              "      <td>27.09</td>\n",
              "      <td>585821</td>\n",
              "      <td>417</td>\n",
              "      <td>27.08</td>\n",
              "      <td>27.10</td>\n",
              "      <td>654</td>\n",
              "      <td>0.00</td>\n",
              "      <td>0.01</td>\n",
              "      <td>0.02</td>\n",
              "      <td>0.01</td>\n",
              "      <td>True</td>\n",
              "      <td>False</td>\n",
              "      <td>False</td>\n",
              "      <td>False</td>\n",
              "    </tr>\n",
              "    <tr>\n",
              "      <th>50139</th>\n",
              "      <td>50140</td>\n",
              "      <td>27.09</td>\n",
              "      <td>585834</td>\n",
              "      <td>416</td>\n",
              "      <td>27.08</td>\n",
              "      <td>27.10</td>\n",
              "      <td>669</td>\n",
              "      <td>0.00</td>\n",
              "      <td>0.01</td>\n",
              "      <td>0.02</td>\n",
              "      <td>0.01</td>\n",
              "      <td>True</td>\n",
              "      <td>False</td>\n",
              "      <td>False</td>\n",
              "      <td>False</td>\n",
              "    </tr>\n",
              "    <tr>\n",
              "      <th>50143</th>\n",
              "      <td>50144</td>\n",
              "      <td>27.09</td>\n",
              "      <td>585980</td>\n",
              "      <td>383</td>\n",
              "      <td>27.08</td>\n",
              "      <td>27.10</td>\n",
              "      <td>671</td>\n",
              "      <td>0.00</td>\n",
              "      <td>0.01</td>\n",
              "      <td>0.02</td>\n",
              "      <td>0.01</td>\n",
              "      <td>True</td>\n",
              "      <td>False</td>\n",
              "      <td>False</td>\n",
              "      <td>False</td>\n",
              "    </tr>\n",
              "    <tr>\n",
              "      <th>50153</th>\n",
              "      <td>50154</td>\n",
              "      <td>27.09</td>\n",
              "      <td>586010</td>\n",
              "      <td>415</td>\n",
              "      <td>27.08</td>\n",
              "      <td>27.10</td>\n",
              "      <td>663</td>\n",
              "      <td>0.00</td>\n",
              "      <td>0.01</td>\n",
              "      <td>0.02</td>\n",
              "      <td>0.01</td>\n",
              "      <td>True</td>\n",
              "      <td>False</td>\n",
              "      <td>False</td>\n",
              "      <td>False</td>\n",
              "    </tr>\n",
              "  </tbody>\n",
              "</table>\n",
              "<p>233 rows × 15 columns</p>\n",
              "</div>\n",
              "      <button class=\"colab-df-convert\" onclick=\"convertToInteractive('df-c3dc5dc4-5390-4d19-bca1-da29cad13fe8')\"\n",
              "              title=\"Convert this dataframe to an interactive table.\"\n",
              "              style=\"display:none;\">\n",
              "        \n",
              "  <svg xmlns=\"http://www.w3.org/2000/svg\" height=\"24px\"viewBox=\"0 0 24 24\"\n",
              "       width=\"24px\">\n",
              "    <path d=\"M0 0h24v24H0V0z\" fill=\"none\"/>\n",
              "    <path d=\"M18.56 5.44l.94 2.06.94-2.06 2.06-.94-2.06-.94-.94-2.06-.94 2.06-2.06.94zm-11 1L8.5 8.5l.94-2.06 2.06-.94-2.06-.94L8.5 2.5l-.94 2.06-2.06.94zm10 10l.94 2.06.94-2.06 2.06-.94-2.06-.94-.94-2.06-.94 2.06-2.06.94z\"/><path d=\"M17.41 7.96l-1.37-1.37c-.4-.4-.92-.59-1.43-.59-.52 0-1.04.2-1.43.59L10.3 9.45l-7.72 7.72c-.78.78-.78 2.05 0 2.83L4 21.41c.39.39.9.59 1.41.59.51 0 1.02-.2 1.41-.59l7.78-7.78 2.81-2.81c.8-.78.8-2.07 0-2.86zM5.41 20L4 18.59l7.72-7.72 1.47 1.35L5.41 20z\"/>\n",
              "  </svg>\n",
              "      </button>\n",
              "      \n",
              "  <style>\n",
              "    .colab-df-container {\n",
              "      display:flex;\n",
              "      flex-wrap:wrap;\n",
              "      gap: 12px;\n",
              "    }\n",
              "\n",
              "    .colab-df-convert {\n",
              "      background-color: #E8F0FE;\n",
              "      border: none;\n",
              "      border-radius: 50%;\n",
              "      cursor: pointer;\n",
              "      display: none;\n",
              "      fill: #1967D2;\n",
              "      height: 32px;\n",
              "      padding: 0 0 0 0;\n",
              "      width: 32px;\n",
              "    }\n",
              "\n",
              "    .colab-df-convert:hover {\n",
              "      background-color: #E2EBFA;\n",
              "      box-shadow: 0px 1px 2px rgba(60, 64, 67, 0.3), 0px 1px 3px 1px rgba(60, 64, 67, 0.15);\n",
              "      fill: #174EA6;\n",
              "    }\n",
              "\n",
              "    [theme=dark] .colab-df-convert {\n",
              "      background-color: #3B4455;\n",
              "      fill: #D2E3FC;\n",
              "    }\n",
              "\n",
              "    [theme=dark] .colab-df-convert:hover {\n",
              "      background-color: #434B5C;\n",
              "      box-shadow: 0px 1px 3px 1px rgba(0, 0, 0, 0.15);\n",
              "      filter: drop-shadow(0px 1px 2px rgba(0, 0, 0, 0.3));\n",
              "      fill: #FFFFFF;\n",
              "    }\n",
              "  </style>\n",
              "\n",
              "      <script>\n",
              "        const buttonEl =\n",
              "          document.querySelector('#df-c3dc5dc4-5390-4d19-bca1-da29cad13fe8 button.colab-df-convert');\n",
              "        buttonEl.style.display =\n",
              "          google.colab.kernel.accessAllowed ? 'block' : 'none';\n",
              "\n",
              "        async function convertToInteractive(key) {\n",
              "          const element = document.querySelector('#df-c3dc5dc4-5390-4d19-bca1-da29cad13fe8');\n",
              "          const dataTable =\n",
              "            await google.colab.kernel.invokeFunction('convertToInteractive',\n",
              "                                                     [key], {});\n",
              "          if (!dataTable) return;\n",
              "\n",
              "          const docLinkHtml = 'Like what you see? Visit the ' +\n",
              "            '<a target=\"_blank\" href=https://colab.research.google.com/notebooks/data_table.ipynb>data table notebook</a>'\n",
              "            + ' to learn more about interactive tables.';\n",
              "          element.innerHTML = '';\n",
              "          dataTable['output_type'] = 'display_data';\n",
              "          await google.colab.output.renderOutput(dataTable, element);\n",
              "          const docLink = document.createElement('div');\n",
              "          docLink.innerHTML = docLinkHtml;\n",
              "          element.appendChild(docLink);\n",
              "        }\n",
              "      </script>\n",
              "    </div>\n",
              "  </div>\n",
              "  "
            ]
          },
          "metadata": {},
          "execution_count": 53
        }
      ]
    },
    {
      "cell_type": "markdown",
      "source": [
        "Q1: How many times did the bid-ask spread widen in this dataset? What proportion of those times did it widen on both sides (bid decreased and ask increased)? What proportion of those times did it widen on one side (bid decreased xor ask increased)? How many times did the bid-ask spread tighten? Report the distribution of market size by figures and statistics."
      ],
      "metadata": {
        "id": "CRuT3Ahn579x"
      }
    },
    {
      "cell_type": "code",
      "source": [
        "# Define the tick size as 0.01\n",
        "tick_size = 0.01\n",
        "\n",
        "# Calculate the bid-ask spread for each row\n",
        "df['spread'] = df['ask'] - df['bid']\n",
        "\n",
        "# Calculate the mid price for each row\n",
        "df['mid_price'] = (df['ask'] + df['bid']) / 2\n",
        "\n",
        "# Calculate the market size for each row\n",
        "df['market_size'] = (df['bidsize'] + df['asksize']) / 2\n",
        "\n",
        "# Determine how many times the bid-ask spread widened\n",
        "df['spread_widened'] = np.round(df['spread'].diff().fillna(0),2) > 0\n",
        "\n",
        "# Determine how many times the bid-ask spread widened on both sides\n",
        "df['spread_widened_both'] = ((df['bid'].diff() < 0) & (df['ask'].diff() > 0))\n",
        "\n",
        "# Determine how many times the bid-ask spread widened on one side\n",
        "df['spread_widened_one'] = (((df['bid'].diff() == 0) & (df['ask'].diff() > 0))) | (((df['bid'].diff() < 0) & (df['ask'].diff() == 0)))\n",
        "\n",
        "# Determine how many times the bid-ask spread tightened\n",
        "df['spread_tightened'] = np.round(df['spread'].diff().fillna(0),2) < 0\n",
        "\n",
        "# Count the number of times the bid-ask spread widened and tightened\n",
        "num_widened = df['spread_widened'].sum()\n",
        "num_widened_both = df['spread_widened_both'].sum()\n",
        "num_widened_one = df['spread_widened_one'].sum()\n",
        "num_tightened = df['spread_tightened'].sum()\n",
        "\n",
        "# Calculate the proportion of times the bid-ask spread widened on both sides\n",
        "prop_widened_both = num_widened_both / num_widened\n",
        "\n",
        "# Calculate the proportion of times the bid-ask spread widened on one side\n",
        "prop_widened_one = num_widened_one / num_widened\n",
        "\n",
        "# Print the results\n",
        "print(\"Number of times the bid-ask spread widened:\", num_widened)\n",
        "print(\"Proportion of times the bid-ask spread widened on both sides:\", prop_widened_both)\n",
        "print(\"Proportion of times the bid-ask spread widened on one side:\", prop_widened_one)\n",
        "print(\"Number of times the bid-ask spread tightened:\", num_tightened,\"\\n\")\n",
        "print(\"Distribution of market size:\\n\", df['market_size'].describe())"
      ],
      "metadata": {
        "colab": {
          "base_uri": "https://localhost:8080/"
        },
        "id": "NLiJvLNT52TD",
        "outputId": "96a3cce8-0b4b-4b94-f428-0c9cbe91b448"
      },
      "execution_count": 54,
      "outputs": [
        {
          "output_type": "stream",
          "name": "stdout",
          "text": [
            "Number of times the bid-ask spread widened: 233\n",
            "Proportion of times the bid-ask spread widened on both sides: 0.004291845493562232\n",
            "Proportion of times the bid-ask spread widened on one side: 0.9871244635193133\n",
            "Number of times the bid-ask spread tightened: 235 \n",
            "\n",
            "Distribution of market size:\n",
            " count    50234.000000\n",
            "mean       879.808576\n",
            "std        550.284604\n",
            "min         10.000000\n",
            "25%        523.000000\n",
            "50%        726.500000\n",
            "75%       1062.000000\n",
            "max       4548.000000\n",
            "Name: market_size, dtype: float64\n"
          ]
        }
      ]
    },
    {
      "cell_type": "code",
      "source": [
        "df['spread'].diff().fillna(0)          #need np.round"
      ],
      "metadata": {
        "colab": {
          "base_uri": "https://localhost:8080/"
        },
        "id": "xbMqfOzM_3Zx",
        "outputId": "28ec00a1-469d-418d-e2fd-1fa20ff0e8c8"
      },
      "execution_count": 55,
      "outputs": [
        {
          "output_type": "execute_result",
          "data": {
            "text/plain": [
              "0        0.000000e+00\n",
              "1        0.000000e+00\n",
              "2       -1.000000e-02\n",
              "3       -3.552714e-15\n",
              "4        2.000000e-02\n",
              "             ...     \n",
              "50229    0.000000e+00\n",
              "50230    0.000000e+00\n",
              "50231    0.000000e+00\n",
              "50232    0.000000e+00\n",
              "50233    0.000000e+00\n",
              "Name: spread, Length: 50234, dtype: float64"
            ]
          },
          "metadata": {},
          "execution_count": 55
        }
      ]
    },
    {
      "cell_type": "markdown",
      "source": [
        "Q2: Focus on instances in which the mid price changes but the bid-ask spread does not. For an increase (decrease) of the mid price, define the new bid (ask) as the aggressive side, and the other as the defensive side. Report the distribution of the sizes of the defensive side and aggressive side immediately following a change in mid price, plot the distribution histogram into a single figure. Can you intuitively explain your results?"
      ],
      "metadata": {
        "id": "JWwP235h6DQu"
      }
    },
    {
      "cell_type": "code",
      "source": [
        "import matplotlib.pyplot as plt\n",
        "\n",
        "# Extract rows where mid price changes but bid-ask spread does not\n",
        "df = df[df['bid'] == df['ask'].shift()]\n",
        "\n",
        "# Compute aggressive and defensive sides for mid price increases and decreases\n",
        "df_aggressive_increase = df[df['mid_price'].diff() > 0].rename(columns={'bid': 'defensive_side_size', 'ask': 'aggressive_side_size'})\n",
        "df_aggressive_decrease = df[df['mid_price'].diff() < 0].rename(columns={'bid': 'aggressive_side_size', 'ask': 'defensive_side_size'})\n",
        "\n",
        "# Plot histograms of sizes for aggressive and defensive sides\n",
        "fig, axs = plt.subplots(1, 2, figsize=(10, 5))\n",
        "df_aggressive_increase['aggressive_side_size'].hist(ax=axs[0], bins=50)\n",
        "df_aggressive_increase['defensive_side_size'].hist(ax=axs[0], bins=50)\n",
        "df_aggressive_decrease['aggressive_side_size'].hist(ax=axs[1], bins=50)\n",
        "df_aggressive_decrease['defensive_side_size'].hist(ax=axs[1], bins=50)\n",
        "axs[0].set_title(\"Mid Price Increase\")\n",
        "axs[0].set_xlabel(\"Size\")\n",
        "axs[0].set_ylabel(\"Frequency\")\n",
        "axs[0].legend(['Aggressive Side', 'Defensive Side'])\n",
        "axs[1].set_title(\"Mid Price Decrease\")\n",
        "axs[1].set_xlabel(\"Size\")\n",
        "axs[1].set_ylabel(\"Frequency\")\n",
        "axs[1].legend(['Aggressive Side', 'Defensive Side'])\n",
        "plt.tight_layout()\n",
        "plt.show()"
      ],
      "metadata": {
        "colab": {
          "base_uri": "https://localhost:8080/",
          "height": 369
        },
        "id": "OKYSlCuY6MKu",
        "outputId": "53f85be8-db78-4777-a8b4-b20f72b50da6"
      },
      "execution_count": 56,
      "outputs": [
        {
          "output_type": "display_data",
          "data": {
            "text/plain": [
              "<Figure size 720x360 with 2 Axes>"
            ],
            "image/png": "[encoded data removed]"
          },
          "metadata": {
            "needs_background": "light"
          }
        }
      ]
    },
    {
      "cell_type": "markdown",
      "source": [
        "Intuitively, we can expect the distribution of sizes to be different for the aggressive and defensive sides following a change in mid price. When the mid price increases, we expect to see more liquidity on the ask side (the new aggressive side) and less on the bid side (the new defensive side). This can be seen in the left histogram where the distribution of sizes for the aggressive side is shifted to the right and has a larger spread than the distribution of sizes for the defensive side.\n",
        "\n",
        "Conversely, when the mid price decreases, we expect to see more liquidity on the bid side (the new aggressive side) and less on the ask side (the new defensive side). This can be seen in the right histogram where the distribution of sizes for the aggressive side is shifted to the left and has a smaller spread than the distribution of sizes for the defensive side."
      ],
      "metadata": {
        "id": "FEHqLTAg6ZuV"
      }
    },
    {
      "cell_type": "code",
      "source": [
        "def get_hurst_exponent(ts, max_lag=20):\n",
        "    lags = range(2, max_lag)\n",
        "    tau = [np.std(np.subtract(ts[lag:], ts[:-lag])) for lag in lags]\n",
        "    \n",
        "    return np.polyfit(np.log(lags), np.log(tau), 1)[0]"
      ],
      "metadata": {
        "id": "kulYoe7S6_Ie"
      },
      "execution_count": 57,
      "outputs": []
    },
    {
      "cell_type": "code",
      "source": [
        "haha = df['mid_price']\n",
        "haha.plot(title=\"Mid\")"
      ],
      "metadata": {
        "colab": {
          "base_uri": "https://localhost:8080/",
          "height": 299
        },
        "id": "3T5POJZ2K8SC",
        "outputId": "88725fce-8f7c-4ba1-e4fb-b543743ad069"
      },
      "execution_count": 58,
      "outputs": [
        {
          "output_type": "execute_result",
          "data": {
            "text/plain": [
              "<AxesSubplot:title={'center':'Mid'}>"
            ]
          },
          "metadata": {},
          "execution_count": 58
        },
        {
          "output_type": "display_data",
          "data": {
            "text/plain": [
              "<Figure size 432x288 with 1 Axes>"
            ],
            "image/png": "[encoded data removed]"
          },
          "metadata": {
            "needs_background": "light"
          }
        }
      ]
    },
    {
      "cell_type": "code",
      "source": [
        "shorter_series = df.loc[\"10000\":\"30000\"].values\n",
        "for lag in [5, 20]:\n",
        "    hurst_exp = get_hurst_exponent(shorter_series, lag)\n",
        "    print(f\"{lag} lags: {hurst_exp:.4f}\")"
      ],
      "metadata": {
        "colab": {
          "base_uri": "https://localhost:8080/"
        },
        "id": "8KfLkFK7N3ct",
        "outputId": "70917f1e-7b9e-4949-e728-0175284751a6"
      },
      "execution_count": 73,
      "outputs": [
        {
          "output_type": "stream",
          "name": "stdout",
          "text": [
            "5 lags: 0.8633\n",
            "20 lags: 0.9147\n"
          ]
        }
      ]
    },
    {
      "cell_type": "markdown",
      "source": [
        "The Hurst exponent uses lags to measure the long-term memory of the time series. For each lag in the range, calculate the standard deviation of the differenced series.\n",
        "\n",
        "The Hurst exponent ranges between 0 and 1.\n",
        "\n",
        "If the Hurst exponent is below 0.5, the market is mean reverting. Reversal strategies win in these markets.\n",
        "\n",
        "If the Hurst exponent of 0.5 means the market is random. In this case, a trading strategy that relies on the market direction will lose money.\n",
        "\n",
        "If the Hurst exponent is above 0.5 the market is trending. Markets with a high Hurst exponent are perfect for trend-following strategies.\n",
        "\n",
        "0.86 means more reverse in short term (5 lag) and 0.91 means more trendy in longer term."
      ],
      "metadata": {
        "id": "CsDYCfeoPl5G"
      }
    },
    {
      "cell_type": "markdown",
      "source": [
        "At this point, you may tackle none, some or all of the following questions. You may answer qualitatively or quantitatively.\n",
        "\n",
        "\n",
        "Q8\n",
        "Focusing on top orders that spend their entire lifespan at the BBO and are completely filled, can you write a model for the return of these orders based on the size of such orders and the sizeDelta variables you see on the second update after the order was inserted? Can you improve your model via other predictors with information taken on or before the second update after the order was inserted?\n",
        "\n",
        "\n",
        "Q9\n",
        "Discuss the above definition of returns.\n",
        "1. What are the pros and cons of using the above definition of returns as a metric for order attractiveness\n",
        "2. What are some (potentially better) alternatives?\n",
        "\n",
        "\n",
        "Q10\n",
        "Any other interesting observations you want to point out? What assumptions in the problems struck you as unrealistic or overly simplistic?"
      ],
      "metadata": {
        "id": "SBE1Q6OJ7IHM"
      }
    },
    {
      "cell_type": "markdown",
      "source": [
        "Q8: One possible model for the return of top orders that spend their entire lifespan at the BBO and are completely filled based on the size of such orders and the sizeDelta variables on the second update after the order was inserted could be:\n",
        "\n",
        "For the bid side:\n",
        "return = (mid F40 - exec price) / ticksize = a + b * size + c * sizeDeltaAtBid\n",
        "\n",
        "For the ask side:\n",
        "return = (exec price - mid F40) / ticksize = a + b * size + c * sizeDeltaAtAsk\n",
        "where a, b, and c are coefficients to be estimated from the data.\n",
        "\n",
        "We can try to improve this model by including other predictors with information taken on or before the second update after the order was inserted. Some potential predictors include:\n",
        "\n",
        "\n",
        "\n",
        "*   The spread at the time the order was inserted\n",
        "*   The bid-ask imbalance at the time the order was inserted\n",
        "*   The time of day when the order was inserted\n",
        "*   The volatility of the underlying asset in the time leading up to the order insertion\n",
        "*   The liquidity of the underlying asset, measured for example by the average daily trading volume or the bid-ask spread on days when the asset is traded.\n",
        "\n",
        "\n",
        "Including these predictors in the model can help to better capture the factors that influence the returns of top orders, and potentially improve the accuracy of the model's predictions.\n",
        "\n",
        "\n",
        "Q9:\n",
        "\n",
        "To answer this question, we need to identify the instances where the mid price changes but the bid-ask spread does not. One way to do this is to look at consecutive market updates and compare the mid prices. If the mid prices are different but the bid-ask spread is the same, then we have a valid instance.\n",
        "\n",
        "Once we have identified the instances, we can calculate the sizes of the aggressive and defensive sides immediately following the mid price change. For an increase in mid price, the new bid becomes the aggressive side, and for a decrease in mid price, the new ask becomes the aggressive side. We can then plot the distribution histogram of the sizes of the aggressive and defensive sides for all such instances.\n",
        "\n",
        "Here is a possible explanation for the results we might observe:\n",
        "\n",
        "> If the mid price increases, we would expect the aggressive side (the new bid) to have smaller sizes than the defensive side (the old ask). This is because buyers are willing to pay higher prices, and sellers may be less willing to sell at lower prices. As a result, the bid side may become thinner, while the ask side remains relatively thick.\n",
        "\n",
        "> If the mid price decreases, we would expect the aggressive side (the new ask) to have larger sizes than the defensive side (the old bid). This is because sellers are willing to accept lower prices, and buyers may be less willing to buy at higher prices. As a result, the ask side may become thinner, while the bid side remains relatively thick.\n",
        "\n",
        "However, it is important to note that these are only general trends and may not always hold true in all instances. Other factors, such as market conditions and liquidity, may also play a role in determining the sizes of the aggressive and defensive sides.\n",
        "\n",
        "Q10:\n",
        "\n",
        "One interesting observation is that the order book seems to be relatively shallow, with only a small number of levels with non-zero size. This can be seen in the fact that the spread is often quite wide and that large trades can move the price significantly. This may suggest that the market is relatively illiquid or that there are not many active participants in the market.\n",
        "\n",
        "Another observation is that there are many assumptions in the problem that are overly simplistic or unrealistic. For example, the assumption that all top orders are inserted at the BBO and that cancellations always happen from the back of the queue are both unrealistic. In reality, orders can be inserted at any price level and cancellations can happen at any position in the queue.\n",
        "\n",
        "Additionally, the assumption that the size of the top order is always equal to the size on the BBO is also unrealistic. In reality, the size of the top order may be smaller or larger than the size on the BBO.\n",
        "\n",
        "Finally, the assumption that returns are calculated based on the mid price 40 updates after the final trade may also be unrealistic. In reality, market conditions can change rapidly and the mid price may be significantly different after 40 updates."
      ],
      "metadata": {
        "id": "PvCoZDbZ7a2s"
      }
    },
    {
      "cell_type": "code",
      "source": [],
      "metadata": {
        "id": "bAN35hhDJ_c3"
      },
      "execution_count": null,
      "outputs": []
    },
    {
      "cell_type": "code",
      "source": [],
      "metadata": {
        "id": "FKJkO0lE7S9O"
      },
      "execution_count": null,
      "outputs": []
    }
  ]
}