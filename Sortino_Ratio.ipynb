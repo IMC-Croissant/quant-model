{
 "cells": [
  {
   "cell_type": "code",
   "execution_count": 18,
   "metadata": {},
   "outputs": [
    {
     "name": "stdout",
     "output_type": "stream",
     "text": [
      "[*********************100%***********************]  2 of 2 completed\n"
     ]
    }
   ],
   "source": [
    "import yfinance as yf\n",
    "import numpy as np\n",
    "\n",
    "data = yf.download([\"SPY\", \"AAPL\"], start=\"2020-01-01\", end=\"2022-12-31\")"
   ]
  },
  {
   "cell_type": "code",
   "execution_count": 19,
   "metadata": {},
   "outputs": [],
   "source": [
    "closes = data['Adj Close']\n",
    "spy_returns = closes.SPY.pct_change().dropna()\n",
    "aapl_returns = closes.AAPL.pct_change().dropna()"
   ]
  },
  {
   "cell_type": "code",
   "execution_count": 20,
   "metadata": {},
   "outputs": [],
   "source": [
    "def sortino_ratio(returns, adjustment_factor=0.0):\n",
    "    \"\"\"\n",
    "    Determines the Sortino ratio of a strategy.\n",
    "    \n",
    "    Parameters\n",
    "    ----------\n",
    "    returns : pd.Series or np.ndarray\n",
    "        Daily returns of the strategy, noncumulative.\n",
    "\t\tadjustment_factor : int, float\n",
    "        Constant daily benchmark return throughout the period.\n",
    "\n",
    "    Returns\n",
    "    -------\n",
    "    sortino_ratio : float\n",
    "\n",
    "    Note\n",
    "    -----\n",
    "    See `<https://www.sunrisecapital.com/wp-content/uploads/2014/06/Futures_\n",
    "    Mag_Sortino_0213.pdf>`__ for more details.\n",
    "    \"\"\"\n",
    "    \n",
    "    # compute annualized return\n",
    "    returns_risk_adj = np.asanyarray(returns - adjustment_factor)\n",
    "    average_annual_return = returns_risk_adj.mean() * 252\n",
    "\n",
    "    # compute the downside deviation\n",
    "    downside_diff = np.clip(returns_risk_adj, np.NINF, 0)\n",
    "    np.square(downside_diff, out=downside_diff)\n",
    "    annualized_downside_deviation = np.sqrt(downside_diff.mean()) * np.sqrt(252)\n",
    "    \n",
    "    return average_annual_return / annualized_downside_deviation"
   ]
  },
  {
   "cell_type": "code",
   "execution_count": 21,
   "metadata": {},
   "outputs": [
    {
     "data": {
      "text/plain": [
       "0.579829354160304"
      ]
     },
     "execution_count": 21,
     "metadata": {},
     "output_type": "execute_result"
    }
   ],
   "source": [
    "# sortino ratio for SPY\n",
    "sortino_ratio(spy_returns)"
   ]
  },
  {
   "cell_type": "code",
   "execution_count": 22,
   "metadata": {},
   "outputs": [
    {
     "data": {
      "text/plain": [
       "1.0565173371068741"
      ]
     },
     "execution_count": 22,
     "metadata": {},
     "output_type": "execute_result"
    }
   ],
   "source": [
    "# sortino ratio for AAPL\n",
    "sortino_ratio(aapl_returns)"
   ]
  },
  {
   "cell_type": "code",
   "execution_count": 23,
   "metadata": {},
   "outputs": [
    {
     "data": {
      "text/plain": [
       "<AxesSubplot:>"
      ]
     },
     "execution_count": 23,
     "metadata": {},
     "output_type": "execute_result"
    },
    {
     "data": {
      "image/png": "[encoded data removed]",
      "text/plain": [
       "<Figure size 432x288 with 1 Axes>"
      ]
     },
     "metadata": {
      "needs_background": "light"
     },
     "output_type": "display_data"
    }
   ],
   "source": [
    "#Use a histogram to visualize the distribution of rolling Sortino ratios. \n",
    "#In the case of AAPL, there is a long tail of positive Sortino ratios.\n",
    "aapl_returns.rolling(30).apply(sortino_ratio).hist(bins=30)"
   ]
  },
  {
   "cell_type": "code",
   "execution_count": 24,
   "metadata": {},
   "outputs": [
    {
     "data": {
      "text/plain": [
       "<AxesSubplot:>"
      ]
     },
     "execution_count": 24,
     "metadata": {},
     "output_type": "execute_result"
    },
    {
     "data": {
      "image/png": "[encoded data removed]",
      "text/plain": [
       "<Figure size 432x288 with 1 Axes>"
      ]
     },
     "metadata": {
      "needs_background": "light"
     },
     "output_type": "display_data"
    }
   ],
   "source": [
    "\"\"\"\n",
    "Sortino ratios of AAPL and SPY compare through time. Was AAPL always a better risk adjusted return?\n",
    "Subtract the SPY Sortino ratio from the AAPL Sortino ratio and plot the result as a histogram.\n",
    "The histogram looks like two overlapping distributions. \n",
    "One distribution is centered around 0 and looks to be skewed left. \n",
    "The other distribution looks to center around 5 and be more even. \n",
    "This might reflect two different periods of time. \n",
    "One where SPY outperformed AAPL and another where AAPL outperformed SPY.\n",
    "Without the Sortino ratio, you might miss this important information about performance.\n",
    "\"\"\"\n",
    "(\n",
    "    aapl_returns.rolling(30).apply(sortino_ratio)\n",
    "    - spy_returns.rolling(30).apply(sortino_ratio)\n",
    ").hist(bins=30)"
   ]
  },
  {
   "cell_type": "code",
   "execution_count": null,
   "metadata": {},
   "outputs": [],
   "source": [
    "\n"
   ]
  }
 ],
 "metadata": {
  "kernelspec": {
   "display_name": "Python 3",
   "language": "python",
   "name": "python3"
  },
  "language_info": {
   "codemirror_mode": {
    "name": "ipython",
    "version": 3
   },
   "file_extension": ".py",
   "mimetype": "text/x-python",
   "name": "python",
   "nbconvert_exporter": "python",
   "pygments_lexer": "ipython3",
   "version": "3.8.5"
  }
 },
 "nbformat": 4,
 "nbformat_minor": 4
}
