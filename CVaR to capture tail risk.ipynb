{
 "cells": [
  {
   "cell_type": "markdown",
   "metadata": {},
   "source": [
    "CVaR is an improvement over VaR and is considered superior by practitioners. It takes into consideration the actual shape of the distribution and quantifies the tail risk. CVaR is also known as the expected shortfall since it measures the expectation of all the different possible losses greater than VaR."
   ]
  },
  {
   "cell_type": "code",
   "execution_count": 18,
   "metadata": {},
   "outputs": [],
   "source": [
    "import numpy as np\n",
    "import pandas as pd\n",
    "import yfinance as yf\n",
    "\n",
    "import matplotlib.pyplot as plt"
   ]
  },
  {
   "cell_type": "code",
   "execution_count": 19,
   "metadata": {},
   "outputs": [
    {
     "name": "stdout",
     "output_type": "stream",
     "text": [
      "[*********************100%***********************]  90 of 90 completed\n"
     ]
    }
   ],
   "source": [
    "oex = ['MMM','T','ABBV','ABT','ACN','ALL','GOOGL','GOOG','MO','AMZN','AXP','AIG','AMGN','AAPL','BAC',\n",
    "       'BRK-B','BIIB','BLK','BA','BMY','CVS','COF','CAT','CVX','CSCO','C','KO','CL','CMCSA',\n",
    "       'COP','DHR','DUK','DD','EMC','EMR','EXC','XOM','META','FDX','F','GD','GE','GM','GILD',\n",
    "       'GS','HAL','HD','HON','INTC','IBM','JPM','JNJ','KMI','LLY','LMT','LOW','MA','MCD','MDT','MRK',\n",
    "       'MET','MSFT','MS','NKE','NEE','OXY','ORCL','PYPL','PEP','PFE','PM','PG','QCOM',\n",
    "       'SLB','SPG','SO','SBUX','TGT','TXN','BK','USB','UNP','UPS','UNH','VZ','V','WMT',\n",
    "       'WBA','DIS','WFC']\n",
    "\n",
    "num_stocks = len(oex)\n",
    "\n",
    "data = yf.download(oex, start='2010-01-01', end='2022-12-31')\n",
    "\n",
    "returns = data['Adj Close'].pct_change()\n",
    "returns = returns - returns.mean(skipna=True) # de-mean the returns"
   ]
  },
  {
   "cell_type": "code",
   "execution_count": 20,
   "metadata": {},
   "outputs": [
    {
     "data": {
      "text/plain": [
       "<BarContainer object of 90 artists>"
      ]
     },
     "execution_count": 20,
     "metadata": {},
     "output_type": "execute_result"
    },
    {
     "data": {
      "image/png": "[encoded data removed]",
      "text/plain": [
       "<Figure size 432x288 with 1 Axes>"
      ]
     },
     "metadata": {
      "needs_background": "light"
     },
     "output_type": "display_data"
    }
   ],
   "source": [
    "def scale(x):\n",
    "    return x / np.sum(np.abs(x))\n",
    "\n",
    "#random weight\n",
    "weights = scale(np.random.random(num_stocks))\n",
    "plt.bar(np.arange(num_stocks),weights)"
   ]
  },
  {
   "cell_type": "markdown",
   "metadata": {},
   "source": [
    "Step 2: Compute VaR and CVaR"
   ]
  },
  {
   "cell_type": "code",
   "execution_count": 21,
   "metadata": {},
   "outputs": [],
   "source": [
    "value_invested = 10000\n",
    "\n",
    "def value_at_risk(\n",
    "    value_invested, \n",
    "    returns, weights, \n",
    "    alpha=0.95, \n",
    "    lookback_days=500\n",
    "):\n",
    "    returns = returns.fillna(0.0)\n",
    "    portfolio_returns = returns.iloc[-lookback_days:].dot(weights)\n",
    "    \n",
    "    return np.percentile(portfolio_returns, 100 * (1-alpha)) * value_invested"
   ]
  },
  {
   "cell_type": "code",
   "execution_count": 22,
   "metadata": {},
   "outputs": [],
   "source": [
    "\"\"\"First, replace any NaNs with 0.0s in the DataFrame of returns. \n",
    "Then take the last few days of returns and multiply them by the portfolio weights to create portfolio returns. \n",
    "Finally, compute VaR by taking the 5th percentile of returns and multiplying it by the value invested. \n",
    "This gets the amount you can expect to lose in one day with 95% confidence.\n",
    "\n",
    "This is the main difference between VaR and CVaR. \n",
    "VaR represents a worst-case loss associated with a probability and a time horizon. \n",
    "CVaR is the expected loss if that worst-case threshold is crossed. \n",
    "In other words, CVaR quantifies the expected losses that occur beyond the VaR cutoff. \n",
    "VaR only measures the cutoff.\n",
    "\"\"\"\n",
    "\n",
    "def cvar(\n",
    "    value_invested, \n",
    "    returns, \n",
    "    weights, \n",
    "    alpha=0.95, \n",
    "    lookback_days=500\n",
    "):\n",
    "    var = value_at_risk(value_invested, returns, weights, alpha, lookback_days=lookback_days)\n",
    "    \n",
    "    returns = returns.fillna(0.0)\n",
    "    portfolio_returns = returns.iloc[-lookback_days:].dot(weights)\n",
    "    var_pct_loss = var / value_invested\n",
    "    \n",
    "    return np.nanmean(portfolio_returns[portfolio_returns < var_pct_loss]) * value_invested\n",
    "\n",
    "#Compute VaR to get the cutoff point on the distribution that equals the 5th percentile. \n",
    "#Then compute the portfolio returns and convert VaR back to a percentage instead of a dollar amount. \n",
    "#To compute CVaR, take the average of all returns less than VaR and multiply by the invested value.\n",
    "#Taking the average of all returns less than VaR is the same as taking the area of the distribution left of that cutoff point."
   ]
  },
  {
   "cell_type": "markdown",
   "metadata": {},
   "source": [
    "Step 3: Vizualize the difference between the two"
   ]
  },
  {
   "cell_type": "code",
   "execution_count": 23,
   "metadata": {},
   "outputs": [
    {
     "data": {
      "text/plain": [
       "-260.56763132406695"
      ]
     },
     "execution_count": 23,
     "metadata": {},
     "output_type": "execute_result"
    }
   ],
   "source": [
    "cvar(value_invested, returns, weights)"
   ]
  },
  {
   "cell_type": "code",
   "execution_count": 24,
   "metadata": {},
   "outputs": [
    {
     "data": {
      "text/plain": [
       "-187.5999493794858"
      ]
     },
     "execution_count": 24,
     "metadata": {},
     "output_type": "execute_result"
    }
   ],
   "source": [
    "value_at_risk(value_invested, returns, weights)"
   ]
  },
  {
   "cell_type": "markdown",
   "metadata": {},
   "source": [
    "CVaR is a bigger negative number than VaR. \n",
    "The difference between the two is the extra information CVaR captures by taking the average of all returns less than VaR. \n",
    "If you are dependent on VaR for risk management, you miss that information.\n",
    "\n"
   ]
  },
  {
   "cell_type": "code",
   "execution_count": 25,
   "metadata": {},
   "outputs": [
    {
     "data": {
      "text/plain": [
       "Text(0, 0.5, 'Observation Frequency')"
      ]
     },
     "execution_count": 25,
     "metadata": {},
     "output_type": "execute_result"
    },
    {
     "data": {
      "image/png": "[encoded data removed]",
      "text/plain": [
       "<Figure size 432x288 with 1 Axes>"
      ]
     },
     "metadata": {
      "needs_background": "light"
     },
     "output_type": "display_data"
    }
   ],
   "source": [
    "lookback_days = 500\n",
    "\n",
    "portfolio_returns = returns.fillna(0.0).iloc[-lookback_days:].dot(weights)\n",
    "\n",
    "portfolio_VaR = value_at_risk(value_invested, returns, weights)\n",
    "portfolio_VaR_return = portfolio_VaR / value_invested\n",
    "\n",
    "portfolio_CVaR = cvar(value_invested, returns, weights)\n",
    "portfolio_CVaR_return = portfolio_CVaR / value_invested\n",
    "\n",
    "plt.hist(portfolio_returns[portfolio_returns > portfolio_VaR_return], bins=40)\n",
    "plt.hist(portfolio_returns[portfolio_returns < portfolio_VaR_return], bins=20)\n",
    "plt.axvline(portfolio_VaR_return, color='red', linestyle='solid')\n",
    "plt.axvline(portfolio_CVaR_return, color='red', linestyle='dashed')\n",
    "plt.legend(['VaR', 'CVaR', 'Returns', 'Returns < VaR'])\n",
    "plt.title('Historical VaR and CVaR')\n",
    "plt.xlabel('Return')\n",
    "plt.ylabel('Observation Frequency')"
   ]
  },
  {
   "cell_type": "code",
   "execution_count": null,
   "metadata": {},
   "outputs": [],
   "source": []
  }
 ],
 "metadata": {
  "kernelspec": {
   "display_name": "Python 3",
   "language": "python",
   "name": "python3"
  },
  "language_info": {
   "codemirror_mode": {
    "name": "ipython",
    "version": 3
   },
   "file_extension": ".py",
   "mimetype": "text/x-python",
   "name": "python",
   "nbconvert_exporter": "python",
   "pygments_lexer": "ipython3",
   "version": "3.8.5"
  }
 },
 "nbformat": 4,
 "nbformat_minor": 4
}
